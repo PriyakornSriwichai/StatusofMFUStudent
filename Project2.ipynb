{
 "cells": [
  {
   "cell_type": "markdown",
   "metadata": {},
   "source": [
    "## Status of MFU Student"
   ]
  },
  {
   "cell_type": "raw",
   "metadata": {},
   "source": [
    "Member: Miss Nuchchanad Artbua   6131501036\n",
    "        Miss Priyakorn Sriwichai   6131501033\n",
    "        Miss Pornpansa Chanlha    6131501036\n",
    "        Miss Apichaya Sainak     6131501065"
   ]
  },
  {
   "cell_type": "markdown",
   "metadata": {},
   "source": [
    "## Data Cleaning & Feature Engineering"
   ]
  },
  {
   "cell_type": "code",
   "execution_count": 1,
   "metadata": {},
   "outputs": [],
   "source": [
    "import pandas as pd\n",
    "import seaborn as sns\n",
    "import matplotlib.pyplot as plt\n",
    "import numpy as np\n",
    "import sklearn"
   ]
  },
  {
   "cell_type": "code",
   "execution_count": 2,
   "metadata": {},
   "outputs": [
    {
     "name": "stderr",
     "output_type": "stream",
     "text": [
      "C:\\Users\\Asus\\anaconda3\\lib\\site-packages\\IPython\\core\\interactiveshell.py:3071: DtypeWarning: Columns (23,24,26,27) have mixed types.Specify dtype option on import or set low_memory=False.\n",
      "  has_raised = await self.run_ast_nodes(code_ast.body, cell_name,\n"
     ]
    }
   ],
   "source": [
    "df = pd.read_csv('tcas1.csv')"
   ]
  },
  {
   "cell_type": "code",
   "execution_count": 3,
   "metadata": {},
   "outputs": [
    {
     "data": {
      "text/plain": [
       "(36401, 79)"
      ]
     },
     "execution_count": 3,
     "metadata": {},
     "output_type": "execute_result"
    }
   ],
   "source": [
    "df.shape"
   ]
  },
  {
   "cell_type": "code",
   "execution_count": 4,
   "metadata": {},
   "outputs": [
    {
     "data": {
      "text/html": [
       "<div>\n",
       "<style scoped>\n",
       "    .dataframe tbody tr th:only-of-type {\n",
       "        vertical-align: middle;\n",
       "    }\n",
       "\n",
       "    .dataframe tbody tr th {\n",
       "        vertical-align: top;\n",
       "    }\n",
       "\n",
       "    .dataframe thead th {\n",
       "        text-align: right;\n",
       "    }\n",
       "</style>\n",
       "<table border=\"1\" class=\"dataframe\">\n",
       "  <thead>\n",
       "    <tr style=\"text-align: right;\">\n",
       "      <th></th>\n",
       "      <th>AcademicYear</th>\n",
       "      <th>AcademicSemester</th>\n",
       "      <th>PrefixName</th>\n",
       "      <th>Sex</th>\n",
       "      <th>FacultyID</th>\n",
       "      <th>FacultyName</th>\n",
       "      <th>DepartmentCode</th>\n",
       "      <th>DepartmentName</th>\n",
       "      <th>MajorName</th>\n",
       "      <th>EntryTypeID</th>\n",
       "      <th>...</th>\n",
       "      <th>Q34</th>\n",
       "      <th>Q35</th>\n",
       "      <th>Q36</th>\n",
       "      <th>Q37</th>\n",
       "      <th>Q38</th>\n",
       "      <th>Q39</th>\n",
       "      <th>Q40</th>\n",
       "      <th>Q41</th>\n",
       "      <th>Q42</th>\n",
       "      <th>Status</th>\n",
       "    </tr>\n",
       "  </thead>\n",
       "  <tbody>\n",
       "    <tr>\n",
       "      <th>0</th>\n",
       "      <td>2562</td>\n",
       "      <td>1</td>\n",
       "      <td>MISS</td>\n",
       "      <td>Female</td>\n",
       "      <td>10</td>\n",
       "      <td>School of Liberal Arts</td>\n",
       "      <td>1005</td>\n",
       "      <td>Thai Language and Culture for Foreigners</td>\n",
       "      <td>NaN</td>\n",
       "      <td>40</td>\n",
       "      <td>...</td>\n",
       "      <td>NaN</td>\n",
       "      <td>NaN</td>\n",
       "      <td>NaN</td>\n",
       "      <td>NaN</td>\n",
       "      <td>NaN</td>\n",
       "      <td>NaN</td>\n",
       "      <td>NaN</td>\n",
       "      <td>NaN</td>\n",
       "      <td>NaN</td>\n",
       "      <td>MFU student</td>\n",
       "    </tr>\n",
       "    <tr>\n",
       "      <th>1</th>\n",
       "      <td>2562</td>\n",
       "      <td>1</td>\n",
       "      <td>MR.</td>\n",
       "      <td>Male</td>\n",
       "      <td>10</td>\n",
       "      <td>School of Liberal Arts</td>\n",
       "      <td>1005</td>\n",
       "      <td>Thai Language and Culture for Foreigners</td>\n",
       "      <td>NaN</td>\n",
       "      <td>40</td>\n",
       "      <td>...</td>\n",
       "      <td>NaN</td>\n",
       "      <td>NaN</td>\n",
       "      <td>NaN</td>\n",
       "      <td>NaN</td>\n",
       "      <td>NaN</td>\n",
       "      <td>NaN</td>\n",
       "      <td>NaN</td>\n",
       "      <td>NaN</td>\n",
       "      <td>NaN</td>\n",
       "      <td>MFU student</td>\n",
       "    </tr>\n",
       "    <tr>\n",
       "      <th>2</th>\n",
       "      <td>2562</td>\n",
       "      <td>1</td>\n",
       "      <td>MR.</td>\n",
       "      <td>Male</td>\n",
       "      <td>10</td>\n",
       "      <td>School of Liberal Arts</td>\n",
       "      <td>1005</td>\n",
       "      <td>Thai Language and Culture for Foreigners</td>\n",
       "      <td>NaN</td>\n",
       "      <td>40</td>\n",
       "      <td>...</td>\n",
       "      <td>NaN</td>\n",
       "      <td>NaN</td>\n",
       "      <td>NaN</td>\n",
       "      <td>NaN</td>\n",
       "      <td>NaN</td>\n",
       "      <td>NaN</td>\n",
       "      <td>NaN</td>\n",
       "      <td>NaN</td>\n",
       "      <td>NaN</td>\n",
       "      <td>MFU student</td>\n",
       "    </tr>\n",
       "    <tr>\n",
       "      <th>3</th>\n",
       "      <td>2562</td>\n",
       "      <td>1</td>\n",
       "      <td>MISS</td>\n",
       "      <td>Female</td>\n",
       "      <td>10</td>\n",
       "      <td>School of Liberal Arts</td>\n",
       "      <td>1005</td>\n",
       "      <td>Thai Language and Culture for Foreigners</td>\n",
       "      <td>NaN</td>\n",
       "      <td>40</td>\n",
       "      <td>...</td>\n",
       "      <td>NaN</td>\n",
       "      <td>NaN</td>\n",
       "      <td>NaN</td>\n",
       "      <td>NaN</td>\n",
       "      <td>NaN</td>\n",
       "      <td>NaN</td>\n",
       "      <td>NaN</td>\n",
       "      <td>NaN</td>\n",
       "      <td>NaN</td>\n",
       "      <td>MFU student</td>\n",
       "    </tr>\n",
       "    <tr>\n",
       "      <th>4</th>\n",
       "      <td>2562</td>\n",
       "      <td>1</td>\n",
       "      <td>MISS</td>\n",
       "      <td>Female</td>\n",
       "      <td>10</td>\n",
       "      <td>School of Liberal Arts</td>\n",
       "      <td>1005</td>\n",
       "      <td>Thai Language and Culture for Foreigners</td>\n",
       "      <td>NaN</td>\n",
       "      <td>40</td>\n",
       "      <td>...</td>\n",
       "      <td>NaN</td>\n",
       "      <td>NaN</td>\n",
       "      <td>NaN</td>\n",
       "      <td>NaN</td>\n",
       "      <td>NaN</td>\n",
       "      <td>NaN</td>\n",
       "      <td>NaN</td>\n",
       "      <td>NaN</td>\n",
       "      <td>NaN</td>\n",
       "      <td>MFU student</td>\n",
       "    </tr>\n",
       "  </tbody>\n",
       "</table>\n",
       "<p>5 rows × 79 columns</p>\n",
       "</div>"
      ],
      "text/plain": [
       "   AcademicYear  AcademicSemester PrefixName     Sex  FacultyID  \\\n",
       "0          2562                 1       MISS  Female         10   \n",
       "1          2562                 1        MR.    Male         10   \n",
       "2          2562                 1        MR.    Male         10   \n",
       "3          2562                 1       MISS  Female         10   \n",
       "4          2562                 1       MISS  Female         10   \n",
       "\n",
       "              FacultyName  DepartmentCode  \\\n",
       "0  School of Liberal Arts            1005   \n",
       "1  School of Liberal Arts            1005   \n",
       "2  School of Liberal Arts            1005   \n",
       "3  School of Liberal Arts            1005   \n",
       "4  School of Liberal Arts            1005   \n",
       "\n",
       "                             DepartmentName MajorName  EntryTypeID  ... Q34  \\\n",
       "0  Thai Language and Culture for Foreigners       NaN           40  ... NaN   \n",
       "1  Thai Language and Culture for Foreigners       NaN           40  ... NaN   \n",
       "2  Thai Language and Culture for Foreigners       NaN           40  ... NaN   \n",
       "3  Thai Language and Culture for Foreigners       NaN           40  ... NaN   \n",
       "4  Thai Language and Culture for Foreigners       NaN           40  ... NaN   \n",
       "\n",
       "   Q35 Q36  Q37  Q38 Q39 Q40 Q41  Q42       Status  \n",
       "0  NaN NaN  NaN  NaN NaN NaN NaN  NaN  MFU student  \n",
       "1  NaN NaN  NaN  NaN NaN NaN NaN  NaN  MFU student  \n",
       "2  NaN NaN  NaN  NaN NaN NaN NaN  NaN  MFU student  \n",
       "3  NaN NaN  NaN  NaN NaN NaN NaN  NaN  MFU student  \n",
       "4  NaN NaN  NaN  NaN NaN NaN NaN  NaN  MFU student  \n",
       "\n",
       "[5 rows x 79 columns]"
      ]
     },
     "execution_count": 4,
     "metadata": {},
     "output_type": "execute_result"
    }
   ],
   "source": [
    "df.head()"
   ]
  },
  {
   "cell_type": "code",
   "execution_count": 5,
   "metadata": {
    "scrolled": true
   },
   "outputs": [
    {
     "data": {
      "text/html": [
       "<div>\n",
       "<style scoped>\n",
       "    .dataframe tbody tr th:only-of-type {\n",
       "        vertical-align: middle;\n",
       "    }\n",
       "\n",
       "    .dataframe tbody tr th {\n",
       "        vertical-align: top;\n",
       "    }\n",
       "\n",
       "    .dataframe thead th {\n",
       "        text-align: right;\n",
       "    }\n",
       "</style>\n",
       "<table border=\"1\" class=\"dataframe\">\n",
       "  <thead>\n",
       "    <tr style=\"text-align: right;\">\n",
       "      <th></th>\n",
       "      <th>AcademicYear</th>\n",
       "      <th>Sex</th>\n",
       "      <th>FacultyID</th>\n",
       "      <th>FacultyName</th>\n",
       "      <th>DepartmentCode</th>\n",
       "      <th>EntryTypeID</th>\n",
       "      <th>EntryTypeName</th>\n",
       "      <th>TCAS</th>\n",
       "      <th>LevelID</th>\n",
       "      <th>HomeRegion</th>\n",
       "      <th>StudentTH</th>\n",
       "      <th>GPAX</th>\n",
       "      <th>Status</th>\n",
       "    </tr>\n",
       "  </thead>\n",
       "  <tbody>\n",
       "    <tr>\n",
       "      <th>0</th>\n",
       "      <td>2562</td>\n",
       "      <td>Female</td>\n",
       "      <td>10</td>\n",
       "      <td>School of Liberal Arts</td>\n",
       "      <td>1005</td>\n",
       "      <td>40</td>\n",
       "      <td>FOREIGNER</td>\n",
       "      <td>5</td>\n",
       "      <td>3</td>\n",
       "      <td>International</td>\n",
       "      <td>0</td>\n",
       "      <td>0.0</td>\n",
       "      <td>MFU student</td>\n",
       "    </tr>\n",
       "    <tr>\n",
       "      <th>1</th>\n",
       "      <td>2562</td>\n",
       "      <td>Male</td>\n",
       "      <td>10</td>\n",
       "      <td>School of Liberal Arts</td>\n",
       "      <td>1005</td>\n",
       "      <td>40</td>\n",
       "      <td>FOREIGNER</td>\n",
       "      <td>5</td>\n",
       "      <td>3</td>\n",
       "      <td>International</td>\n",
       "      <td>0</td>\n",
       "      <td>0.0</td>\n",
       "      <td>MFU student</td>\n",
       "    </tr>\n",
       "    <tr>\n",
       "      <th>2</th>\n",
       "      <td>2562</td>\n",
       "      <td>Male</td>\n",
       "      <td>10</td>\n",
       "      <td>School of Liberal Arts</td>\n",
       "      <td>1005</td>\n",
       "      <td>40</td>\n",
       "      <td>FOREIGNER</td>\n",
       "      <td>5</td>\n",
       "      <td>3</td>\n",
       "      <td>International</td>\n",
       "      <td>0</td>\n",
       "      <td>0.0</td>\n",
       "      <td>MFU student</td>\n",
       "    </tr>\n",
       "    <tr>\n",
       "      <th>3</th>\n",
       "      <td>2562</td>\n",
       "      <td>Female</td>\n",
       "      <td>10</td>\n",
       "      <td>School of Liberal Arts</td>\n",
       "      <td>1005</td>\n",
       "      <td>40</td>\n",
       "      <td>FOREIGNER</td>\n",
       "      <td>5</td>\n",
       "      <td>3</td>\n",
       "      <td>International</td>\n",
       "      <td>0</td>\n",
       "      <td>0.0</td>\n",
       "      <td>MFU student</td>\n",
       "    </tr>\n",
       "    <tr>\n",
       "      <th>4</th>\n",
       "      <td>2562</td>\n",
       "      <td>Female</td>\n",
       "      <td>10</td>\n",
       "      <td>School of Liberal Arts</td>\n",
       "      <td>1005</td>\n",
       "      <td>40</td>\n",
       "      <td>FOREIGNER</td>\n",
       "      <td>5</td>\n",
       "      <td>3</td>\n",
       "      <td>International</td>\n",
       "      <td>0</td>\n",
       "      <td>0.0</td>\n",
       "      <td>MFU student</td>\n",
       "    </tr>\n",
       "  </tbody>\n",
       "</table>\n",
       "</div>"
      ],
      "text/plain": [
       "   AcademicYear     Sex  FacultyID             FacultyName  DepartmentCode  \\\n",
       "0          2562  Female         10  School of Liberal Arts            1005   \n",
       "1          2562    Male         10  School of Liberal Arts            1005   \n",
       "2          2562    Male         10  School of Liberal Arts            1005   \n",
       "3          2562  Female         10  School of Liberal Arts            1005   \n",
       "4          2562  Female         10  School of Liberal Arts            1005   \n",
       "\n",
       "   EntryTypeID EntryTypeName  TCAS  LevelID     HomeRegion  StudentTH  GPAX  \\\n",
       "0           40     FOREIGNER     5        3  International          0   0.0   \n",
       "1           40     FOREIGNER     5        3  International          0   0.0   \n",
       "2           40     FOREIGNER     5        3  International          0   0.0   \n",
       "3           40     FOREIGNER     5        3  International          0   0.0   \n",
       "4           40     FOREIGNER     5        3  International          0   0.0   \n",
       "\n",
       "        Status  \n",
       "0  MFU student  \n",
       "1  MFU student  \n",
       "2  MFU student  \n",
       "3  MFU student  \n",
       "4  MFU student  "
      ]
     },
     "execution_count": 5,
     "metadata": {},
     "output_type": "execute_result"
    }
   ],
   "source": [
    "df = df.drop(columns=['ProvinceNameEng','GPA_Eng','GPA_Math','GPA_Sci','GPA_Sco','DepartmentName','MajorName',\n",
    "                      'EntryGPA','Country','EntryGroupID','Q1','Q2','Q3','Q4','Q5','Q6','Q7','Q8','Q9','Q10','Q11','Q12','Q13','Q14',\n",
    "                      'Q15','Q16','Q17','Q18','Q19','Q20','Q21','Q22','Q23','Q24','Q25','Q26','Q27','Q28','Q29','Q30','Q31','Q32','Q33','Q34','Q35','Q36','Q37','Q38','Q39','Q40','Q41','Q42','AcademicSemester',\n",
    "                      'PrefixName','LevelNameEng','LevelName','SchoolRegionName','SchoolRegion','SchoolProvince','NationName','EntryGroupName','SchoolRegionNameEng','SchoolName','ApplicationDate','StudentType','ReligionName'], axis=1)\n",
    "\n",
    "df.head()"
   ]
  },
  {
   "cell_type": "code",
   "execution_count": 6,
   "metadata": {},
   "outputs": [
    {
     "data": {
      "text/plain": [
       "AcademicYear        int64\n",
       "Sex                object\n",
       "FacultyID           int64\n",
       "FacultyName        object\n",
       "DepartmentCode      int64\n",
       "EntryTypeID         int64\n",
       "EntryTypeName      object\n",
       "TCAS                int64\n",
       "LevelID             int64\n",
       "HomeRegion         object\n",
       "StudentTH           int64\n",
       "GPAX              float64\n",
       "Status             object\n",
       "dtype: object"
      ]
     },
     "execution_count": 6,
     "metadata": {},
     "output_type": "execute_result"
    }
   ],
   "source": [
    "df.dtypes"
   ]
  },
  {
   "cell_type": "code",
   "execution_count": 7,
   "metadata": {},
   "outputs": [],
   "source": [
    "df[['GPAX']]= df.GPAX.fillna(df.GPAX.mean())"
   ]
  },
  {
   "cell_type": "code",
   "execution_count": 8,
   "metadata": {},
   "outputs": [],
   "source": [
    "df[['HomeRegion']]= df.HomeRegion.fillna(df.HomeRegion.mode()[0]) \n"
   ]
  },
  {
   "cell_type": "code",
   "execution_count": 9,
   "metadata": {},
   "outputs": [
    {
     "data": {
      "text/html": [
       "<div>\n",
       "<style scoped>\n",
       "    .dataframe tbody tr th:only-of-type {\n",
       "        vertical-align: middle;\n",
       "    }\n",
       "\n",
       "    .dataframe tbody tr th {\n",
       "        vertical-align: top;\n",
       "    }\n",
       "\n",
       "    .dataframe thead th {\n",
       "        text-align: right;\n",
       "    }\n",
       "</style>\n",
       "<table border=\"1\" class=\"dataframe\">\n",
       "  <thead>\n",
       "    <tr style=\"text-align: right;\">\n",
       "      <th></th>\n",
       "      <th>AcademicYear</th>\n",
       "      <th>Sex</th>\n",
       "      <th>FacultyID</th>\n",
       "      <th>FacultyName</th>\n",
       "      <th>DepartmentCode</th>\n",
       "      <th>EntryTypeID</th>\n",
       "      <th>EntryTypeName</th>\n",
       "      <th>TCAS</th>\n",
       "      <th>LevelID</th>\n",
       "      <th>HomeRegion</th>\n",
       "      <th>StudentTH</th>\n",
       "      <th>GPAX</th>\n",
       "      <th>Status</th>\n",
       "    </tr>\n",
       "  </thead>\n",
       "  <tbody>\n",
       "    <tr>\n",
       "      <th>0</th>\n",
       "      <td>2562</td>\n",
       "      <td>Female</td>\n",
       "      <td>10</td>\n",
       "      <td>School of Liberal Arts</td>\n",
       "      <td>1005</td>\n",
       "      <td>40</td>\n",
       "      <td>FOREIGNER</td>\n",
       "      <td>5</td>\n",
       "      <td>3</td>\n",
       "      <td>International</td>\n",
       "      <td>0</td>\n",
       "      <td>0.0</td>\n",
       "      <td>MFU student</td>\n",
       "    </tr>\n",
       "    <tr>\n",
       "      <th>1</th>\n",
       "      <td>2562</td>\n",
       "      <td>Male</td>\n",
       "      <td>10</td>\n",
       "      <td>School of Liberal Arts</td>\n",
       "      <td>1005</td>\n",
       "      <td>40</td>\n",
       "      <td>FOREIGNER</td>\n",
       "      <td>5</td>\n",
       "      <td>3</td>\n",
       "      <td>International</td>\n",
       "      <td>0</td>\n",
       "      <td>0.0</td>\n",
       "      <td>MFU student</td>\n",
       "    </tr>\n",
       "    <tr>\n",
       "      <th>2</th>\n",
       "      <td>2562</td>\n",
       "      <td>Male</td>\n",
       "      <td>10</td>\n",
       "      <td>School of Liberal Arts</td>\n",
       "      <td>1005</td>\n",
       "      <td>40</td>\n",
       "      <td>FOREIGNER</td>\n",
       "      <td>5</td>\n",
       "      <td>3</td>\n",
       "      <td>International</td>\n",
       "      <td>0</td>\n",
       "      <td>0.0</td>\n",
       "      <td>MFU student</td>\n",
       "    </tr>\n",
       "    <tr>\n",
       "      <th>3</th>\n",
       "      <td>2562</td>\n",
       "      <td>Female</td>\n",
       "      <td>10</td>\n",
       "      <td>School of Liberal Arts</td>\n",
       "      <td>1005</td>\n",
       "      <td>40</td>\n",
       "      <td>FOREIGNER</td>\n",
       "      <td>5</td>\n",
       "      <td>3</td>\n",
       "      <td>International</td>\n",
       "      <td>0</td>\n",
       "      <td>0.0</td>\n",
       "      <td>MFU student</td>\n",
       "    </tr>\n",
       "    <tr>\n",
       "      <th>4</th>\n",
       "      <td>2562</td>\n",
       "      <td>Female</td>\n",
       "      <td>10</td>\n",
       "      <td>School of Liberal Arts</td>\n",
       "      <td>1005</td>\n",
       "      <td>40</td>\n",
       "      <td>FOREIGNER</td>\n",
       "      <td>5</td>\n",
       "      <td>3</td>\n",
       "      <td>International</td>\n",
       "      <td>0</td>\n",
       "      <td>0.0</td>\n",
       "      <td>MFU student</td>\n",
       "    </tr>\n",
       "  </tbody>\n",
       "</table>\n",
       "</div>"
      ],
      "text/plain": [
       "   AcademicYear     Sex  FacultyID             FacultyName  DepartmentCode  \\\n",
       "0          2562  Female         10  School of Liberal Arts            1005   \n",
       "1          2562    Male         10  School of Liberal Arts            1005   \n",
       "2          2562    Male         10  School of Liberal Arts            1005   \n",
       "3          2562  Female         10  School of Liberal Arts            1005   \n",
       "4          2562  Female         10  School of Liberal Arts            1005   \n",
       "\n",
       "   EntryTypeID EntryTypeName  TCAS  LevelID     HomeRegion  StudentTH  GPAX  \\\n",
       "0           40     FOREIGNER     5        3  International          0   0.0   \n",
       "1           40     FOREIGNER     5        3  International          0   0.0   \n",
       "2           40     FOREIGNER     5        3  International          0   0.0   \n",
       "3           40     FOREIGNER     5        3  International          0   0.0   \n",
       "4           40     FOREIGNER     5        3  International          0   0.0   \n",
       "\n",
       "        Status  \n",
       "0  MFU student  \n",
       "1  MFU student  \n",
       "2  MFU student  \n",
       "3  MFU student  \n",
       "4  MFU student  "
      ]
     },
     "execution_count": 9,
     "metadata": {},
     "output_type": "execute_result"
    }
   ],
   "source": [
    "df.head()"
   ]
  },
  {
   "cell_type": "code",
   "execution_count": 10,
   "metadata": {},
   "outputs": [
    {
     "data": {
      "text/plain": [
       "AcademicYear      0\n",
       "Sex               0\n",
       "FacultyID         0\n",
       "FacultyName       0\n",
       "DepartmentCode    0\n",
       "EntryTypeID       0\n",
       "EntryTypeName     0\n",
       "TCAS              0\n",
       "LevelID           0\n",
       "HomeRegion        0\n",
       "StudentTH         0\n",
       "GPAX              0\n",
       "Status            0\n",
       "dtype: int64"
      ]
     },
     "execution_count": 10,
     "metadata": {},
     "output_type": "execute_result"
    }
   ],
   "source": [
    "df.isnull().sum()"
   ]
  },
  {
   "cell_type": "code",
   "execution_count": 11,
   "metadata": {},
   "outputs": [
    {
     "data": {
      "text/plain": [
       "0"
      ]
     },
     "execution_count": 11,
     "metadata": {},
     "output_type": "execute_result"
    }
   ],
   "source": [
    "df.isnull().sum(axis=1).sum()\n"
   ]
  },
  {
   "cell_type": "code",
   "execution_count": 12,
   "metadata": {},
   "outputs": [
    {
     "data": {
      "text/plain": [
       "AcademicYear      0.0\n",
       "Sex               0.0\n",
       "FacultyID         0.0\n",
       "FacultyName       0.0\n",
       "DepartmentCode    0.0\n",
       "EntryTypeID       0.0\n",
       "EntryTypeName     0.0\n",
       "TCAS              0.0\n",
       "LevelID           0.0\n",
       "HomeRegion        0.0\n",
       "StudentTH         0.0\n",
       "GPAX              0.0\n",
       "Status            0.0\n",
       "dtype: float64"
      ]
     },
     "execution_count": 12,
     "metadata": {},
     "output_type": "execute_result"
    }
   ],
   "source": [
    "df.isnull().mean()\n",
    "threshold = 0.5\n",
    "new_df = df[df.columns[df.isnull().mean() < threshold]]\n",
    "new_df.isnull().mean()"
   ]
  },
  {
   "cell_type": "code",
   "execution_count": 13,
   "metadata": {},
   "outputs": [
    {
     "name": "stdout",
     "output_type": "stream",
     "text": [
      "AcademicYear      2563.00\n",
      "FacultyID           16.00\n",
      "DepartmentCode    1601.00\n",
      "EntryTypeID         20.00\n",
      "TCAS                 3.00\n",
      "LevelID              3.00\n",
      "StudentTH            1.00\n",
      "GPAX                 2.43\n",
      "dtype: float64\n",
      "AcademicYear      0\n",
      "Sex               0\n",
      "FacultyID         0\n",
      "FacultyName       0\n",
      "DepartmentCode    0\n",
      "EntryTypeID       0\n",
      "EntryTypeName     0\n",
      "TCAS              0\n",
      "LevelID           0\n",
      "HomeRegion        0\n",
      "StudentTH         0\n",
      "GPAX              0\n",
      "Status            0\n",
      "dtype: int64\n"
     ]
    }
   ],
   "source": [
    "print(df.median())\n",
    "new_df = df.fillna(df.median())\n",
    "print(new_df.isnull().sum())"
   ]
  },
  {
   "cell_type": "code",
   "execution_count": 14,
   "metadata": {},
   "outputs": [
    {
     "data": {
      "text/plain": [
       "0"
      ]
     },
     "execution_count": 14,
     "metadata": {},
     "output_type": "execute_result"
    }
   ],
   "source": [
    "new_df.isnull().sum(axis=1).sum()"
   ]
  },
  {
   "cell_type": "code",
   "execution_count": 15,
   "metadata": {},
   "outputs": [],
   "source": [
    "df = pd.concat([new_df] ,axis=1)"
   ]
  },
  {
   "cell_type": "code",
   "execution_count": 16,
   "metadata": {},
   "outputs": [
    {
     "data": {
      "text/plain": [
       "AcademicYear        int64\n",
       "Sex                object\n",
       "FacultyID           int64\n",
       "FacultyName        object\n",
       "DepartmentCode      int64\n",
       "EntryTypeID         int64\n",
       "EntryTypeName      object\n",
       "TCAS                int64\n",
       "LevelID             int64\n",
       "HomeRegion         object\n",
       "StudentTH           int64\n",
       "GPAX              float64\n",
       "Status             object\n",
       "dtype: object"
      ]
     },
     "execution_count": 16,
     "metadata": {},
     "output_type": "execute_result"
    }
   ],
   "source": [
    "df.dtypes"
   ]
  },
  {
   "cell_type": "code",
   "execution_count": 17,
   "metadata": {},
   "outputs": [],
   "source": [
    "num_data = df.select_dtypes(include=['number']) \n",
    "# get all nominal / ordinal / Boolean features\n",
    "cat_data = df[['FacultyName','HomeRegion','EntryTypeName','Sex']]\n",
    "# get class\n",
    "class_target = df.Status"
   ]
  },
  {
   "cell_type": "code",
   "execution_count": 18,
   "metadata": {},
   "outputs": [
    {
     "data": {
      "text/html": [
       "<div>\n",
       "<style scoped>\n",
       "    .dataframe tbody tr th:only-of-type {\n",
       "        vertical-align: middle;\n",
       "    }\n",
       "\n",
       "    .dataframe tbody tr th {\n",
       "        vertical-align: top;\n",
       "    }\n",
       "\n",
       "    .dataframe thead th {\n",
       "        text-align: right;\n",
       "    }\n",
       "</style>\n",
       "<table border=\"1\" class=\"dataframe\">\n",
       "  <thead>\n",
       "    <tr style=\"text-align: right;\">\n",
       "      <th></th>\n",
       "      <th>AcademicYear</th>\n",
       "      <th>FacultyID</th>\n",
       "      <th>DepartmentCode</th>\n",
       "      <th>EntryTypeID</th>\n",
       "      <th>TCAS</th>\n",
       "      <th>LevelID</th>\n",
       "      <th>StudentTH</th>\n",
       "      <th>GPAX</th>\n",
       "    </tr>\n",
       "  </thead>\n",
       "  <tbody>\n",
       "    <tr>\n",
       "      <th>0</th>\n",
       "      <td>2562</td>\n",
       "      <td>10</td>\n",
       "      <td>1005</td>\n",
       "      <td>40</td>\n",
       "      <td>5</td>\n",
       "      <td>3</td>\n",
       "      <td>0</td>\n",
       "      <td>0.0</td>\n",
       "    </tr>\n",
       "    <tr>\n",
       "      <th>1</th>\n",
       "      <td>2562</td>\n",
       "      <td>10</td>\n",
       "      <td>1005</td>\n",
       "      <td>40</td>\n",
       "      <td>5</td>\n",
       "      <td>3</td>\n",
       "      <td>0</td>\n",
       "      <td>0.0</td>\n",
       "    </tr>\n",
       "    <tr>\n",
       "      <th>2</th>\n",
       "      <td>2562</td>\n",
       "      <td>10</td>\n",
       "      <td>1005</td>\n",
       "      <td>40</td>\n",
       "      <td>5</td>\n",
       "      <td>3</td>\n",
       "      <td>0</td>\n",
       "      <td>0.0</td>\n",
       "    </tr>\n",
       "    <tr>\n",
       "      <th>3</th>\n",
       "      <td>2562</td>\n",
       "      <td>10</td>\n",
       "      <td>1005</td>\n",
       "      <td>40</td>\n",
       "      <td>5</td>\n",
       "      <td>3</td>\n",
       "      <td>0</td>\n",
       "      <td>0.0</td>\n",
       "    </tr>\n",
       "    <tr>\n",
       "      <th>4</th>\n",
       "      <td>2562</td>\n",
       "      <td>10</td>\n",
       "      <td>1005</td>\n",
       "      <td>40</td>\n",
       "      <td>5</td>\n",
       "      <td>3</td>\n",
       "      <td>0</td>\n",
       "      <td>0.0</td>\n",
       "    </tr>\n",
       "  </tbody>\n",
       "</table>\n",
       "</div>"
      ],
      "text/plain": [
       "   AcademicYear  FacultyID  DepartmentCode  EntryTypeID  TCAS  LevelID  \\\n",
       "0          2562         10            1005           40     5        3   \n",
       "1          2562         10            1005           40     5        3   \n",
       "2          2562         10            1005           40     5        3   \n",
       "3          2562         10            1005           40     5        3   \n",
       "4          2562         10            1005           40     5        3   \n",
       "\n",
       "   StudentTH  GPAX  \n",
       "0          0   0.0  \n",
       "1          0   0.0  \n",
       "2          0   0.0  \n",
       "3          0   0.0  \n",
       "4          0   0.0  "
      ]
     },
     "execution_count": 18,
     "metadata": {},
     "output_type": "execute_result"
    }
   ],
   "source": [
    "num_data.head()"
   ]
  },
  {
   "cell_type": "code",
   "execution_count": 19,
   "metadata": {},
   "outputs": [
    {
     "data": {
      "text/html": [
       "<div>\n",
       "<style scoped>\n",
       "    .dataframe tbody tr th:only-of-type {\n",
       "        vertical-align: middle;\n",
       "    }\n",
       "\n",
       "    .dataframe tbody tr th {\n",
       "        vertical-align: top;\n",
       "    }\n",
       "\n",
       "    .dataframe thead th {\n",
       "        text-align: right;\n",
       "    }\n",
       "</style>\n",
       "<table border=\"1\" class=\"dataframe\">\n",
       "  <thead>\n",
       "    <tr style=\"text-align: right;\">\n",
       "      <th></th>\n",
       "      <th>FacultyName</th>\n",
       "      <th>HomeRegion</th>\n",
       "      <th>EntryTypeName</th>\n",
       "      <th>Sex</th>\n",
       "    </tr>\n",
       "  </thead>\n",
       "  <tbody>\n",
       "    <tr>\n",
       "      <th>0</th>\n",
       "      <td>School of Liberal Arts</td>\n",
       "      <td>International</td>\n",
       "      <td>FOREIGNER</td>\n",
       "      <td>Female</td>\n",
       "    </tr>\n",
       "    <tr>\n",
       "      <th>1</th>\n",
       "      <td>School of Liberal Arts</td>\n",
       "      <td>International</td>\n",
       "      <td>FOREIGNER</td>\n",
       "      <td>Male</td>\n",
       "    </tr>\n",
       "    <tr>\n",
       "      <th>2</th>\n",
       "      <td>School of Liberal Arts</td>\n",
       "      <td>International</td>\n",
       "      <td>FOREIGNER</td>\n",
       "      <td>Male</td>\n",
       "    </tr>\n",
       "    <tr>\n",
       "      <th>3</th>\n",
       "      <td>School of Liberal Arts</td>\n",
       "      <td>International</td>\n",
       "      <td>FOREIGNER</td>\n",
       "      <td>Female</td>\n",
       "    </tr>\n",
       "    <tr>\n",
       "      <th>4</th>\n",
       "      <td>School of Liberal Arts</td>\n",
       "      <td>International</td>\n",
       "      <td>FOREIGNER</td>\n",
       "      <td>Female</td>\n",
       "    </tr>\n",
       "  </tbody>\n",
       "</table>\n",
       "</div>"
      ],
      "text/plain": [
       "              FacultyName     HomeRegion EntryTypeName     Sex\n",
       "0  School of Liberal Arts  International     FOREIGNER  Female\n",
       "1  School of Liberal Arts  International     FOREIGNER    Male\n",
       "2  School of Liberal Arts  International     FOREIGNER    Male\n",
       "3  School of Liberal Arts  International     FOREIGNER  Female\n",
       "4  School of Liberal Arts  International     FOREIGNER  Female"
      ]
     },
     "execution_count": 19,
     "metadata": {},
     "output_type": "execute_result"
    }
   ],
   "source": [
    "cat_data.head()"
   ]
  },
  {
   "cell_type": "code",
   "execution_count": 20,
   "metadata": {},
   "outputs": [
    {
     "data": {
      "text/plain": [
       "0    MFU student\n",
       "1    MFU student\n",
       "2    MFU student\n",
       "3    MFU student\n",
       "4    MFU student\n",
       "Name: Status, dtype: object"
      ]
     },
     "execution_count": 20,
     "metadata": {},
     "output_type": "execute_result"
    }
   ],
   "source": [
    "class_target.head()"
   ]
  },
  {
   "cell_type": "code",
   "execution_count": 21,
   "metadata": {},
   "outputs": [
    {
     "data": {
      "text/plain": [
       "0        1\n",
       "1        2\n",
       "2        2\n",
       "3        1\n",
       "4        1\n",
       "        ..\n",
       "36396    1\n",
       "36397    1\n",
       "36398    1\n",
       "36399    1\n",
       "36400    1\n",
       "Name: Sex, Length: 36401, dtype: int64"
      ]
     },
     "execution_count": 21,
     "metadata": {},
     "output_type": "execute_result"
    }
   ],
   "source": [
    "Sex={'Female':1,'Male':2}\n",
    "\n",
    "Sex=cat_data.Sex.apply(Sex.get)\n",
    "Sex"
   ]
  },
  {
   "cell_type": "code",
   "execution_count": 22,
   "metadata": {},
   "outputs": [
    {
     "data": {
      "text/plain": [
       "0        1.0\n",
       "1        1.0\n",
       "2        1.0\n",
       "3        1.0\n",
       "4        1.0\n",
       "        ... \n",
       "36396    3.0\n",
       "36397    3.0\n",
       "36398    3.0\n",
       "36399    3.0\n",
       "36400    3.0\n",
       "Name: EntryTypeName, Length: 36401, dtype: float64"
      ]
     },
     "execution_count": 22,
     "metadata": {},
     "output_type": "execute_result"
    }
   ],
   "source": [
    "EntryTypeName={'FOREIGNER':1,'QUOTA 17 NORTHERN PROVINCES':2,'DIRECT ADMISSION BY SCHOOL':3,'INTERNATIONAL SCHOOL':4,'ADMISSIONS':5,\n",
    "               'QUOTA BY SCHOOL':6,'SPECIAL FOR GOOD STUDENT':7,'GOOD BEHAVE STUDENTS':8,'CHIANG RAI DEVELOPMENT SCHOLARSHIP':9,'DIRECT ADMISSION':10,\n",
    "               'RE-ID FIRST SEMESTER GPAX 2.00':11}\n",
    "\n",
    "EntryTypeName=cat_data.EntryTypeName.apply(EntryTypeName.get)\n",
    "EntryTypeName"
   ]
  },
  {
   "cell_type": "code",
   "execution_count": 23,
   "metadata": {},
   "outputs": [
    {
     "data": {
      "text/plain": [
       "0        1\n",
       "1        1\n",
       "2        1\n",
       "3        1\n",
       "4        1\n",
       "        ..\n",
       "36396    4\n",
       "36397    2\n",
       "36398    5\n",
       "36399    2\n",
       "36400    8\n",
       "Name: HomeRegion, Length: 36401, dtype: int64"
      ]
     },
     "execution_count": 23,
     "metadata": {},
     "output_type": "execute_result"
    }
   ],
   "source": [
    "HomeRegion={'International':1,'North':2,'Central':3,'South':4,\n",
    "             'East':5,'West':6,'Bankok':7,'North East':8}\n",
    "\n",
    "HomeRegion=cat_data.HomeRegion.apply(HomeRegion.get)\n",
    "HomeRegion"
   ]
  },
  {
   "cell_type": "code",
   "execution_count": 24,
   "metadata": {},
   "outputs": [
    {
     "data": {
      "text/plain": [
       "0        8\n",
       "1        8\n",
       "2        8\n",
       "3        8\n",
       "4        8\n",
       "        ..\n",
       "36396    9\n",
       "36397    1\n",
       "36398    9\n",
       "36399    9\n",
       "36400    1\n",
       "Name: FacultyName, Length: 36401, dtype: int64"
      ]
     },
     "execution_count": 24,
     "metadata": {},
     "output_type": "execute_result"
    }
   ],
   "source": [
    "FacultyName={'School of Agro-industry':1,'School of Cosmetic Science':2,'School of Dentistry':3,'School of Health Science':4,\n",
    "             'School of Information Technology':5,'School of Integrative Medicine':6,\n",
    "             'School of Law':7,\n",
    "             'School of Liberal Arts':8,'School of Management':9,'School of Medicine':10,'School of Nursing':11,'School of Science':12,'School of Sinology':13,'School of Social Innovation':14}\n",
    "\n",
    "FacultyName=cat_data.FacultyName.apply(FacultyName.get)\n",
    "FacultyName"
   ]
  },
  {
   "cell_type": "code",
   "execution_count": 25,
   "metadata": {},
   "outputs": [],
   "source": [
    "transform_num_data = pd.concat([num_data,FacultyName],axis=1)\n"
   ]
  },
  {
   "cell_type": "code",
   "execution_count": 26,
   "metadata": {},
   "outputs": [],
   "source": [
    "X = transform_num_data\n",
    "Y = class_target"
   ]
  },
  {
   "cell_type": "markdown",
   "metadata": {},
   "source": [
    "## K-Nearest Neighbors (KNN) Models"
   ]
  },
  {
   "cell_type": "markdown",
   "metadata": {},
   "source": [
    "Train and Test on the Entire Dataset:"
   ]
  },
  {
   "cell_type": "code",
   "execution_count": 27,
   "metadata": {},
   "outputs": [],
   "source": [
    "# Rescaling features into a range of [0,1]\n",
    "from sklearn.preprocessing import MinMaxScaler\n",
    "mms = MinMaxScaler()\n",
    "mms.fit(X)\n",
    "X = mms.fit_transform(X)"
   ]
  },
  {
   "cell_type": "code",
   "execution_count": 28,
   "metadata": {},
   "outputs": [
    {
     "name": "stdout",
     "output_type": "stream",
     "text": [
      "Training Accuracy:  0.6964918546193786\n"
     ]
    }
   ],
   "source": [
    "from sklearn.neighbors import KNeighborsClassifier\n",
    "from sklearn import metrics\n",
    "\n",
    "# Initialize the knn model with k = 2\n",
    "knn = KNeighborsClassifier(n_neighbors=2, metric = 'euclidean')\n",
    "\n",
    "# Fit the model to the whole dataset\n",
    "knn.fit(X, Y)\n",
    "\n",
    "# Predict classes of training set\n",
    "y_pred = knn.predict(X)\n",
    "\n",
    "# Evaluate model performace\n",
    "ac = metrics.accuracy_score(Y, y_pred)\n",
    "print('Training Accuracy: ', ac)"
   ]
  },
  {
   "cell_type": "code",
   "execution_count": 29,
   "metadata": {},
   "outputs": [
    {
     "name": "stdout",
     "output_type": "stream",
     "text": [
      "x_train shape:  (25480, 9)\n",
      "y_train shape:  (25480,)\n",
      "x_test shape:  (10921, 9)\n",
      "y_test shape:  (10921,)\n"
     ]
    }
   ],
   "source": [
    "# Import module from sklean to split data onto training and test sets\n",
    "from sklearn.model_selection import train_test_split\n",
    "# Split training set and test set with ration 70% : 30% by specify test_size = 0.2\n",
    "x_train, x_test, y_train, y_test = train_test_split(X,Y, test_size = 0.3, stratify = Y, random_state = 0)\n",
    "\n",
    "# print the shape of trainning and test sets\n",
    "print(\"x_train shape: \", x_train.shape)\n",
    "print(\"y_train shape: \", y_train.shape)\n",
    "print(\"x_test shape: \", x_test.shape)\n",
    "print(\"y_test shape: \", y_test.shape)"
   ]
  },
  {
   "cell_type": "code",
   "execution_count": 30,
   "metadata": {},
   "outputs": [
    {
     "data": {
      "text/plain": [
       "Not MFU student    27752\n",
       "MFU student         8649\n",
       "Name: Status, dtype: int64"
      ]
     },
     "execution_count": 30,
     "metadata": {},
     "output_type": "execute_result"
    }
   ],
   "source": [
    "Y.value_counts()"
   ]
  },
  {
   "cell_type": "code",
   "execution_count": 31,
   "metadata": {},
   "outputs": [
    {
     "data": {
      "text/plain": [
       "Not MFU student    19426\n",
       "MFU student         6054\n",
       "Name: Status, dtype: int64"
      ]
     },
     "execution_count": 31,
     "metadata": {},
     "output_type": "execute_result"
    }
   ],
   "source": [
    "y_train.value_counts()"
   ]
  },
  {
   "cell_type": "code",
   "execution_count": 32,
   "metadata": {},
   "outputs": [
    {
     "data": {
      "text/plain": [
       "Not MFU student    8326\n",
       "MFU student        2595\n",
       "Name: Status, dtype: int64"
      ]
     },
     "execution_count": 32,
     "metadata": {},
     "output_type": "execute_result"
    }
   ],
   "source": [
    "y_test.value_counts()"
   ]
  },
  {
   "cell_type": "code",
   "execution_count": 33,
   "metadata": {},
   "outputs": [
    {
     "name": "stdout",
     "output_type": "stream",
     "text": [
      "Tesing Accuracy:  0.6456368464426334\n"
     ]
    }
   ],
   "source": [
    "from sklearn.neighbors import KNeighborsClassifier\n",
    "from sklearn import metrics\n",
    "\n",
    "# Initialize the knn model with k = 2\n",
    "knn = KNeighborsClassifier(n_neighbors=2, metric = 'euclidean')\n",
    "\n",
    "# Fit the model to the training set\n",
    "knn.fit(x_train, y_train)\n",
    "\n",
    "# Predict classes of the test set\n",
    "y_pred = knn.predict(x_test)\n",
    "\n",
    "# Evaluate model performace\n",
    "ac = metrics.accuracy_score(y_test, y_pred)\n",
    "print('Tesing Accuracy: ', ac)"
   ]
  },
  {
   "cell_type": "code",
   "execution_count": 34,
   "metadata": {},
   "outputs": [
    {
     "name": "stdout",
     "output_type": "stream",
     "text": [
      "Cross Validation Accuracy: 0.386 +/- 0.217\n"
     ]
    }
   ],
   "source": [
    "#Step 1: Import the sklearn classes\n",
    "from sklearn.neighbors import KNeighborsClassifier\n",
    "from sklearn.model_selection import cross_validate\n",
    "\n",
    "#Step 2: Create the model object with paramenters\n",
    "#Create an instance of KNeighborsClassifier with k=2 \n",
    "knn = KNeighborsClassifier(n_neighbors=2, metric = 'euclidean') \n",
    "\n",
    "#Step 3: Fit and test the model with cross validation (5-fold)\n",
    "cv_results = cross_validate(knn, X,Y, cv=10, return_train_score=True)\n",
    "\n",
    "# Accuracy score for each fold \n",
    "#print('Tesing Accuracy for each fold:', cv_results['test_score'])\n",
    "\n",
    "# Overall accuracy score for cross validaiton \n",
    "print('Cross Validation Accuracy: %.3f +/- %.3f' % (cv_results['test_score'].mean(), cv_results['test_score'].std()))"
   ]
  },
  {
   "cell_type": "code",
   "execution_count": 35,
   "metadata": {},
   "outputs": [
    {
     "name": "stdout",
     "output_type": "stream",
     "text": [
      "1 0.3952370967401179\n",
      "2 0.38575897667287395\n",
      "3 0.41001654689721156\n",
      "4 0.3983955168698371\n",
      "5 0.4116092895020388\n",
      "6 0.4054831724167072\n",
      "7 0.41847692337873604\n",
      "8 0.4104274728292855\n",
      "9 0.41982254150683157\n",
      "10 0.41460289710289705\n",
      "11 0.42152559675973567\n",
      "12 0.414547725688209\n",
      "13 0.42833857230382916\n",
      "14 0.425618822265348\n"
     ]
    }
   ],
   "source": [
    "# Experimenting with different k values\n",
    "from sklearn import metrics\n",
    "k_range = list(range(1,15))\n",
    "scores_cv = []\n",
    "\n",
    "for k in k_range:\n",
    "    knn = KNeighborsClassifier(n_neighbors=k, metric = 'euclidean')\n",
    "    cv_results = cross_validate(knn, X,Y, cv=10) # compute CV accuracy\n",
    "    scores_cv.append(cv_results['test_score'].mean())\n",
    "    print(k, cv_results['test_score'].mean())"
   ]
  },
  {
   "cell_type": "markdown",
   "metadata": {},
   "source": [
    "## (Best) k value for the KNN model of this dataset"
   ]
  },
  {
   "cell_type": "code",
   "execution_count": 36,
   "metadata": {},
   "outputs": [
    {
     "data": {
      "image/png": "[encoded data removed]",
      "text/plain": [
       "<Figure size 432x288 with 1 Axes>"
      ]
     },
     "metadata": {
      "needs_background": "light"
     },
     "output_type": "display_data"
    }
   ],
   "source": [
    "# create a line graph for testing accuracy\n",
    "import matplotlib.pyplot as plt\n",
    "plt.plot(k_range, scores_cv, 'y', color='blue',marker='o', markerfacecolor='red', markersize='5')\n",
    "plt.xlabel('k value ')\n",
    "plt.ylabel('CV Accuracy Rate')\n",
    "plt.title('CV Accuracy Rates of k (K-Nearest-Neighbors)')\n",
    "plt.show()"
   ]
  },
  {
   "cell_type": "code",
   "execution_count": 37,
   "metadata": {},
   "outputs": [
    {
     "name": "stdout",
     "output_type": "stream",
     "text": [
      "best k =  13 accuracy =  0.42833857230382916\n"
     ]
    }
   ],
   "source": [
    "# find best k with the highest cv accuracy\n",
    "import operator\n",
    "index, value = max(enumerate(scores_cv), key=operator.itemgetter(1))\n",
    "print('best k = ', index+1, 'accuracy = ', value)"
   ]
  },
  {
   "cell_type": "code",
   "execution_count": 38,
   "metadata": {},
   "outputs": [
    {
     "data": {
      "text/plain": [
       "KNeighborsClassifier(metric='euclidean', n_neighbors=6)"
      ]
     },
     "execution_count": 38,
     "metadata": {},
     "output_type": "execute_result"
    }
   ],
   "source": [
    "#Step 1: Import the sklearn class\n",
    "from sklearn.neighbors import KNeighborsClassifier\n",
    "\n",
    "#Step 2: Create the model object with paramenters\n",
    "#Create an instance of KNeighborsClassifier with k=6 (best k) \n",
    "best_knn = KNeighborsClassifier(n_neighbors=6, metric = 'euclidean') \n",
    "\n",
    "#Step 3: Fit the model with data (model training)\n",
    "#Model is learning the relationship between data (X) and class(Y)\n",
    "best_knn.fit(X,Y)"
   ]
  },
  {
   "cell_type": "code",
   "execution_count": 39,
   "metadata": {},
   "outputs": [],
   "source": [
    "import pickle\n",
    "pickle.dump(best_knn, open('best_knn.pkl','wb'))\n",
    "pickle.dump(mms, open('normalization.pkl','wb'))"
   ]
  },
  {
   "cell_type": "code",
   "execution_count": 40,
   "metadata": {},
   "outputs": [],
   "source": [
    "df.to_csv('AI.csv')"
   ]
  }
 ],
 "metadata": {
  "kernelspec": {
   "display_name": "Python 3",
   "language": "python",
   "name": "python3"
  },
  "language_info": {
   "codemirror_mode": {
    "name": "ipython",
    "version": 3
   },
   "file_extension": ".py",
   "mimetype": "text/x-python",
   "name": "python",
   "nbconvert_exporter": "python",
   "pygments_lexer": "ipython3",
   "version": "3.8.3"
  }
 },
 "nbformat": 4,
 "nbformat_minor": 4
}
